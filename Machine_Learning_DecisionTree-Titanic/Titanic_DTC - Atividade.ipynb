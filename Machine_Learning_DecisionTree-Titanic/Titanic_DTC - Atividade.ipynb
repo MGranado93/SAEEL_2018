{
 "cells": [
  {
   "cell_type": "markdown",
   "metadata": {},
   "source": [
    "# Classificação utilizando Decision Trees"
   ]
  },
  {
   "cell_type": "markdown",
   "metadata": {},
   "source": [
    "**1 Exercício: Coleta dos dados**"
   ]
  },
  {
   "cell_type": "markdown",
   "metadata": {},
   "source": [
    "**Introdução**\n",
    "Esse código irá identificar a sobrevivência dos passageiros do titanic\n",
    "\n",
    "O _dataset_ que será analisado contém as seguintes colunas:\n",
    "* **PassengerId** : Número de identificação do passageiro;\n",
    "* **Survived**: Indica se o passageiro sobreviveu ao desastre. É atribuído o valor de 0 para aqueles que não sobreviveram, e 1 para quem sobreviveu;\n",
    "* **Pclass**: Classe na qual o passageiro viajou. É informado 1 para primeira classe; 2 para segunda; e 3 para terceira;\n",
    "* **Name**: Nome do passageiro;\n",
    "* **Sex**: Sexo do passageiro;\n",
    "* **Age**: Idade do passageiro em anos;\n",
    "* **SibSp**: Quantidade de irmãos e cônjuges a bordo ;\n",
    "* **Parch**: Quantidade de pais e filhos a bordo;\n",
    "* **Ticket**: Número da passagem;\n",
    "* **Fare**: Preço da passagem;\n",
    "* **Cabin**: Número da cabine do passageiro;\n",
    "* **Embarked**: Indica o porto no qual o passageiro embarcou. Há apenas três valores possíveis: Cherbourg, Queenstown e Southampton, indicados pelas letras “C”, “Q” e “S”, respectivamente."
   ]
  },
  {
   "cell_type": "markdown",
   "metadata": {},
   "source": [
    "* Importe os dados do arquivo 'titanic_data.txt'. **fonte**: [GitHub Decision Tree](https://raw.githubusercontent.com/PECCE-IFSC/SAEEL_2018/master/Machine_Learning_DecisionTree-Titanic/titanic_data.txt).\n",
    "* Verifique as características de cada coluna.\n",
    "* Verfifique as dimensões do Data frame.\n"
   ]
  },
  {
   "cell_type": "code",
   "execution_count": null,
   "metadata": {
    "collapsed": true
   },
   "outputs": [],
   "source": [
    "import pandas as pd\n",
    "\n",
    "# importar os dados \n",
    "file = pd.read_csv(\"https://raw.githubusercontent.com/PECCE-IFSC/SAEEL_2018/master/Machine_Learning_DecisionTree-Titanic/titanic_data.txt\")\n",
    "\n",
    "# verificar características de cada coluna. \n",
    "\n",
    "# verificar as dimensões do Data frame"
   ]
  },
  {
   "cell_type": "markdown",
   "metadata": {},
   "source": [
    "**2 Preparação dos dados**"
   ]
  },
  {
   "cell_type": "markdown",
   "metadata": {
    "collapsed": true
   },
   "source": [
    "* A função **file.drop()** foi utilizada para remover as colunas que são insignificantes para a previsão do algoritmo\n",
    "* Com a função **file.isnull().sum().sort_values()** é possível verificar a quantidade de dados nulos em cada coluna para posteriomente, com a função **file[ ].fillna()**, preencher esses dados.\n",
    "* Utilizou-se a função **get_dummies()** para codificar as características com dados nominais em dados numéricos."
   ]
  },
  {
   "cell_type": "code",
   "execution_count": null,
   "metadata": {
    "collapsed": true
   },
   "outputs": [],
   "source": [
    "# Removendo as colunas insignifiantes para realizar o algoritmo\n",
    "file.drop(['PassengerId', 'Name', 'Ticket', 'Cabin'], axis = 1, inplace = True)\n",
    "\n",
    "# Verficando a quantidade de dados nulos de cada coluna\n",
    "print(file.isnull().sum().sort_values())\n",
    "\n",
    "# Preenchendo os dados nulos com a média da coluna\n",
    "file['Age'].fillna(file['Age'].mean(), inplace = True)\n",
    "\n",
    "# Codificanto dados nominais em numéricos a partir do método One-hot enconding\n",
    "file = pd.get_dummies(file)"
   ]
  },
  {
   "cell_type": "markdown",
   "metadata": {},
   "source": [
    "**Exercício**\n",
    "* Verifique os tipos de dados de cada coluna após a codificação"
   ]
  },
  {
   "cell_type": "code",
   "execution_count": null,
   "metadata": {
    "collapsed": true
   },
   "outputs": [],
   "source": [
    "# verificar os tipos dos dados \n"
   ]
  },
  {
   "cell_type": "markdown",
   "metadata": {},
   "source": [
    "**3 Separação dos dados**\n",
    "* Utilizou-se a função **train_test_split** para separar os dados em teste e treino, 10% (`test_size = 0.1`) e 90%, respectivamente"
   ]
  },
  {
   "cell_type": "code",
   "execution_count": null,
   "metadata": {
    "collapsed": true
   },
   "outputs": [],
   "source": [
    "from sklearn.model_selection import train_test_split\n",
    "\n",
    "train, test = train_test_split(file, test_size = 0.1, random_state = 123)"
   ]
  },
  {
   "cell_type": "markdown",
   "metadata": {},
   "source": [
    "**Exercício**\n",
    "* Separar a coluna `Survived` do `train` e `test`, armazenando-os em `train_labels` e `test_labels`,  respectivamente."
   ]
  },
  {
   "cell_type": "code",
   "execution_count": null,
   "metadata": {
    "collapsed": true
   },
   "outputs": [],
   "source": [
    "# Separar a coluna 'Survived' de train\n",
    "train_labels = \n",
    "\n",
    "# Separar a coluna 'Survived' de test\n",
    "test_labels = "
   ]
  },
  {
   "cell_type": "markdown",
   "metadata": {},
   "source": [
    "**4 Exercício: Treinar o modelo**\n",
    "* A partir da biblioteca **sklearn.tree** importou-se a classe `DecisionTreeClassifier`\n",
    "* Crie uma instância da classe com a função  **DecisionTreeClassifier()**, utilize a profundidade (`max_depth`) igual a 4.\n",
    "* Treine o algorítmo DecisionTreeClassifier, utilizando a função **DecisionTreeClassifier.fit()**\n",
    "* Com a função **DecisionTreeClassifier.predict()**, teste o código usando o DataFrame `test`."
   ]
  },
  {
   "cell_type": "code",
   "execution_count": null,
   "metadata": {
    "collapsed": true
   },
   "outputs": [],
   "source": [
    "from sklearn.tree import DecisionTreeClassifier\n",
    "\n",
    "# Crie um instância da classe\n",
    "DTC = \n",
    "\n",
    "# Treine o algoritmo DecisionTreeClassifier\n",
    "DTC = \n",
    "\n",
    "# Teste o algoritmo\n",
    "y_predict = "
   ]
  },
  {
   "cell_type": "markdown",
   "metadata": {},
   "source": [
    "**5 Avaliando o desempenho do modelo**\n",
    "* A partir da biblioteca **sklearn.metrics** importaram-se as funções `accuracy_score` e `confusion_matrix`\n",
    "* Calculou-se a exatidão utilizando a função **accuracy_score**"
   ]
  },
  {
   "cell_type": "code",
   "execution_count": null,
   "metadata": {
    "collapsed": true
   },
   "outputs": [],
   "source": [
    "from sklearn.metrics import accuracy_score, confusion_matrix\n",
    "\n",
    "confusion_matrix_ = pd.DataFrame (confusion_matrix(test_labels, y_predict), \n",
    "                                  columns =['Predicted Positive', 'Predicted Negative'], \n",
    "                                  index =['Actual Positive', 'Actual Negative'])\n",
    "\n",
    "print(accuracy_score (test_labels, y_predict))\n",
    "confusion_matrix_"
   ]
  },
  {
   "cell_type": "markdown",
   "metadata": {},
   "source": [
    "**6 Exportar a árvore de decisão**\n",
    "* Para visualizar a árvore de decisão é necessário criar um arquivo em formato DOT, utilizando a função **export_graphviz**, e então utilizar o seguinte site: [Graphviz](http://www.webgraphviz.com/) para exibir a árvore com os dados gerados."
   ]
  },
  {
   "cell_type": "code",
   "execution_count": null,
   "metadata": {
    "collapsed": true
   },
   "outputs": [],
   "source": [
    "from sklearn.tree import export_graphviz\n",
    "with open(\"CREDIT_TREE.txt\", \"w\") as f:\n",
    "    f = export_graphviz(DTC, out_file=f)\n",
    "    "
   ]
  },
  {
   "cell_type": "code",
   "execution_count": null,
   "metadata": {
    "collapsed": true
   },
   "outputs": [],
   "source": []
  }
 ],
 "metadata": {
  "kernelspec": {
   "display_name": "Python 3",
   "language": "python",
   "name": "python3"
  },
  "language_info": {
   "codemirror_mode": {
    "name": "ipython",
    "version": 3
   },
   "file_extension": ".py",
   "mimetype": "text/x-python",
   "name": "python",
   "nbconvert_exporter": "python",
   "pygments_lexer": "ipython3",
   "version": "3.6.1"
  }
 },
 "nbformat": 4,
 "nbformat_minor": 2
}
